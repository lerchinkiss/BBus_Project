{
 "cells": [
  {
   "cell_type": "code",
   "execution_count": 12,
   "id": "3f8e1322",
   "metadata": {},
   "outputs": [],
   "source": [
    "import pandas as pd\n",
    "import os"
   ]
  },
  {
   "cell_type": "code",
   "execution_count": 13,
   "id": "5572c77a",
   "metadata": {},
   "outputs": [],
   "source": [
    "file_path = '../datasets/bbTariffs.xlsx' \n",
    "bbTariffs = pd.read_excel(file_path)"
   ]
  },
  {
   "cell_type": "code",
   "execution_count": 14,
   "id": "a82c0ad1",
   "metadata": {},
   "outputs": [
    {
     "name": "stdout",
     "output_type": "stream",
     "text": [
      "Размер таблицы (строки, столбцы): (2, 6)\n"
     ]
    }
   ],
   "source": [
    "#Посмотрим на количество данных в Excel файле\n",
    "print(\"Размер таблицы (строки, столбцы):\", bbTariffs.shape)"
   ]
  },
  {
   "cell_type": "code",
   "execution_count": 15,
   "id": "7558305e",
   "metadata": {},
   "outputs": [
    {
     "name": "stdout",
     "output_type": "stream",
     "text": [
      "Названия колонок: ['Ref', 'DeletionMark', 'Code', 'Description', 'Трансфер', 'Аренда']\n"
     ]
    }
   ],
   "source": [
    "print(\"Названия колонок:\", bbTariffs.columns.tolist())"
   ]
  },
  {
   "cell_type": "code",
   "execution_count": 16,
   "id": "3a54be29",
   "metadata": {},
   "outputs": [
    {
     "data": {
      "text/html": [
       "<div>\n",
       "<style scoped>\n",
       "    .dataframe tbody tr th:only-of-type {\n",
       "        vertical-align: middle;\n",
       "    }\n",
       "\n",
       "    .dataframe tbody tr th {\n",
       "        vertical-align: top;\n",
       "    }\n",
       "\n",
       "    .dataframe thead th {\n",
       "        text-align: right;\n",
       "    }\n",
       "</style>\n",
       "<table border=\"1\" class=\"dataframe\">\n",
       "  <thead>\n",
       "    <tr style=\"text-align: right;\">\n",
       "      <th></th>\n",
       "      <th>Ref</th>\n",
       "      <th>DeletionMark</th>\n",
       "      <th>Code</th>\n",
       "      <th>Description</th>\n",
       "      <th>Трансфер</th>\n",
       "      <th>Аренда</th>\n",
       "    </tr>\n",
       "  </thead>\n",
       "  <tbody>\n",
       "    <tr>\n",
       "      <th>0</th>\n",
       "      <td>dd1e05a1-0cb5-401a-a9f3-f56f2ebb2d6b</td>\n",
       "      <td>False</td>\n",
       "      <td>3</td>\n",
       "      <td>Изменяемая сумма</td>\n",
       "      <td>False</td>\n",
       "      <td>NaN</td>\n",
       "    </tr>\n",
       "    <tr>\n",
       "      <th>1</th>\n",
       "      <td>9e61f4d3-cd2d-451b-861f-b2bf81b66152</td>\n",
       "      <td>False</td>\n",
       "      <td>2</td>\n",
       "      <td>Изменяемая стоимость часа</td>\n",
       "      <td>False</td>\n",
       "      <td>NaN</td>\n",
       "    </tr>\n",
       "  </tbody>\n",
       "</table>\n",
       "</div>"
      ],
      "text/plain": [
       "                                    Ref  DeletionMark  Code  \\\n",
       "0  dd1e05a1-0cb5-401a-a9f3-f56f2ebb2d6b         False     3   \n",
       "1  9e61f4d3-cd2d-451b-861f-b2bf81b66152         False     2   \n",
       "\n",
       "                 Description  Трансфер  Аренда  \n",
       "0           Изменяемая сумма     False     NaN  \n",
       "1  Изменяемая стоимость часа     False     NaN  "
      ]
     },
     "execution_count": 16,
     "metadata": {},
     "output_type": "execute_result"
    }
   ],
   "source": [
    "#Посмотрим на значения данных в bbTariffs\n",
    "bbTariffs.head()"
   ]
  },
  {
   "cell_type": "code",
   "execution_count": 17,
   "id": "0c7d8f58",
   "metadata": {},
   "outputs": [],
   "source": [
    "columns_to_keep = [\n",
    "    'Ref', 'DeletionMark', 'Code', 'Description', 'Трансфер'\n",
    "]"
   ]
  },
  {
   "cell_type": "code",
   "execution_count": 18,
   "id": "2e894afa",
   "metadata": {},
   "outputs": [
    {
     "name": "stdout",
     "output_type": "stream",
     "text": [
      "В датафрейме остались только нужные колонки.\n",
      "\n",
      "Размер отфильтрованного датафрейма: (2, 5)\n"
     ]
    },
    {
     "data": {
      "text/html": [
       "<div>\n",
       "<style scoped>\n",
       "    .dataframe tbody tr th:only-of-type {\n",
       "        vertical-align: middle;\n",
       "    }\n",
       "\n",
       "    .dataframe tbody tr th {\n",
       "        vertical-align: top;\n",
       "    }\n",
       "\n",
       "    .dataframe thead th {\n",
       "        text-align: right;\n",
       "    }\n",
       "</style>\n",
       "<table border=\"1\" class=\"dataframe\">\n",
       "  <thead>\n",
       "    <tr style=\"text-align: right;\">\n",
       "      <th></th>\n",
       "      <th>Ref</th>\n",
       "      <th>DeletionMark</th>\n",
       "      <th>Code</th>\n",
       "      <th>Description</th>\n",
       "      <th>Трансфер</th>\n",
       "    </tr>\n",
       "  </thead>\n",
       "  <tbody>\n",
       "    <tr>\n",
       "      <th>0</th>\n",
       "      <td>dd1e05a1-0cb5-401a-a9f3-f56f2ebb2d6b</td>\n",
       "      <td>False</td>\n",
       "      <td>3</td>\n",
       "      <td>Изменяемая сумма</td>\n",
       "      <td>False</td>\n",
       "    </tr>\n",
       "    <tr>\n",
       "      <th>1</th>\n",
       "      <td>9e61f4d3-cd2d-451b-861f-b2bf81b66152</td>\n",
       "      <td>False</td>\n",
       "      <td>2</td>\n",
       "      <td>Изменяемая стоимость часа</td>\n",
       "      <td>False</td>\n",
       "    </tr>\n",
       "  </tbody>\n",
       "</table>\n",
       "</div>"
      ],
      "text/plain": [
       "                                    Ref  DeletionMark  Code  \\\n",
       "0  dd1e05a1-0cb5-401a-a9f3-f56f2ebb2d6b         False     3   \n",
       "1  9e61f4d3-cd2d-451b-861f-b2bf81b66152         False     2   \n",
       "\n",
       "                 Description  Трансфер  \n",
       "0           Изменяемая сумма     False  \n",
       "1  Изменяемая стоимость часа     False  "
      ]
     },
     "execution_count": 18,
     "metadata": {},
     "output_type": "execute_result"
    }
   ],
   "source": [
    "# Проверка наличия колонок\n",
    "missing_columns = [col for col in columns_to_keep if col not in bbTariffs.columns]\n",
    "\n",
    "if missing_columns:\n",
    "    print(\"В датафрейме отсутствуют следующие колонки:\")\n",
    "    for col in missing_columns:\n",
    "        print(\" -\", col)\n",
    "\n",
    "# Фильтрация по доступным колонкам\n",
    "available_columns = [col for col in columns_to_keep if col in bbTariffs.columns]\n",
    "bbTariffs_filtered = bbTariffs[available_columns]\n",
    "\n",
    "# Проверка, что в bbOrders_filtered остались только нужные колонки\n",
    "if set(bbTariffs_filtered.columns) == set(columns_to_keep):\n",
    "    print(\"В датафрейме остались только нужные колонки.\")\n",
    "else:\n",
    "    extra_columns = set(bbTariffs_filtered.columns) - set(columns_to_keep)\n",
    "    if extra_columns:\n",
    "        print(\"Остались лишние колонки в отфильтрованном датафрейме:\")\n",
    "        for col in extra_columns:\n",
    "            print(\" -\", col)\n",
    "\n",
    "# Вывод результата\n",
    "print(\"\\nРазмер отфильтрованного датафрейма:\", bbTariffs_filtered.shape)\n",
    "bbTariffs_filtered.head()"
   ]
  },
  {
   "cell_type": "code",
   "execution_count": 19,
   "id": "ac37c7e1",
   "metadata": {},
   "outputs": [
    {
     "name": "stdout",
     "output_type": "stream",
     "text": [
      "Файл успешно сохранен: ../filtered_datasets\\bbTariffs_filtered.xlsx\n"
     ]
    }
   ],
   "source": [
    "# Убедимся, что папка существует\n",
    "output_dir = '../filtered_datasets'\n",
    "os.makedirs(output_dir, exist_ok=True)\n",
    "\n",
    "# Путь к файлу\n",
    "output_path = os.path.join(output_dir, 'bbTariffs_filtered.xlsx')\n",
    "\n",
    "bbTariffs_filtered.to_excel(output_path, index=False)\n",
    "print(f\"Файл успешно сохранен: {output_path}\")"
   ]
  }
 ],
 "metadata": {
  "kernelspec": {
   "display_name": "Python 3 (ipykernel)",
   "language": "python",
   "name": "python3"
  },
  "language_info": {
   "codemirror_mode": {
    "name": "ipython",
    "version": 3
   },
   "file_extension": ".py",
   "mimetype": "text/x-python",
   "name": "python",
   "nbconvert_exporter": "python",
   "pygments_lexer": "ipython3",
   "version": "3.10.11"
  }
 },
 "nbformat": 4,
 "nbformat_minor": 5
}
