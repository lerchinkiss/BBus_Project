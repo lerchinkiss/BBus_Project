{
 "cells": [
  {
   "cell_type": "code",
   "execution_count": 1,
   "id": "376a70f3",
   "metadata": {},
   "outputs": [],
   "source": [
    "import pandas as pd"
   ]
  },
  {
   "cell_type": "code",
   "execution_count": 3,
   "id": "8a74f4ed",
   "metadata": {},
   "outputs": [],
   "source": [
    "file_path = '../datasets/bbStatus.xlsx' \n",
    "bbStatus = pd.read_excel(file_path)"
   ]
  },
  {
   "cell_type": "code",
   "execution_count": 4,
   "id": "10cd232d",
   "metadata": {},
   "outputs": [
    {
     "name": "stdout",
     "output_type": "stream",
     "text": [
      "Размер таблицы (строки, столбцы): (3, 4)\n"
     ]
    }
   ],
   "source": [
    "#Посмотрим на количество данных в Excel файле\n",
    "print(\"Размер таблицы (строки, столбцы):\", bbStatus.shape)"
   ]
  },
  {
   "cell_type": "code",
   "execution_count": 5,
   "id": "0975e13e",
   "metadata": {},
   "outputs": [
    {
     "name": "stdout",
     "output_type": "stream",
     "text": [
      "Названия колонок: ['Ref', 'DeletionMark', 'Code', 'Description']\n"
     ]
    }
   ],
   "source": [
    "print(\"Названия колонок:\", bbStatus.columns.tolist())"
   ]
  },
  {
   "cell_type": "code",
   "execution_count": 6,
   "id": "377c75cd",
   "metadata": {},
   "outputs": [
    {
     "data": {
      "text/html": [
       "<div>\n",
       "<style scoped>\n",
       "    .dataframe tbody tr th:only-of-type {\n",
       "        vertical-align: middle;\n",
       "    }\n",
       "\n",
       "    .dataframe tbody tr th {\n",
       "        vertical-align: top;\n",
       "    }\n",
       "\n",
       "    .dataframe thead th {\n",
       "        text-align: right;\n",
       "    }\n",
       "</style>\n",
       "<table border=\"1\" class=\"dataframe\">\n",
       "  <thead>\n",
       "    <tr style=\"text-align: right;\">\n",
       "      <th></th>\n",
       "      <th>Ref</th>\n",
       "      <th>DeletionMark</th>\n",
       "      <th>Code</th>\n",
       "      <th>Description</th>\n",
       "    </tr>\n",
       "  </thead>\n",
       "  <tbody>\n",
       "    <tr>\n",
       "      <th>0</th>\n",
       "      <td>12329fb4-5879-11e6-80c5-00155ddeca01</td>\n",
       "      <td>False</td>\n",
       "      <td>1</td>\n",
       "      <td>Стандарт</td>\n",
       "    </tr>\n",
       "    <tr>\n",
       "      <th>1</th>\n",
       "      <td>12329fb6-5879-11e6-80c5-00155ddeca01</td>\n",
       "      <td>False</td>\n",
       "      <td>2</td>\n",
       "      <td>Дети</td>\n",
       "    </tr>\n",
       "    <tr>\n",
       "      <th>2</th>\n",
       "      <td>2211ee5e-5879-11e6-80c5-00155ddeca01</td>\n",
       "      <td>False</td>\n",
       "      <td>3</td>\n",
       "      <td>Свадьба</td>\n",
       "    </tr>\n",
       "  </tbody>\n",
       "</table>\n",
       "</div>"
      ],
      "text/plain": [
       "                                    Ref  DeletionMark  Code Description\n",
       "0  12329fb4-5879-11e6-80c5-00155ddeca01         False     1    Стандарт\n",
       "1  12329fb6-5879-11e6-80c5-00155ddeca01         False     2        Дети\n",
       "2  2211ee5e-5879-11e6-80c5-00155ddeca01         False     3     Свадьба"
      ]
     },
     "execution_count": 6,
     "metadata": {},
     "output_type": "execute_result"
    }
   ],
   "source": [
    "#Посмотрим на значения данных в bbStatus\n",
    "bbStatus.head()"
   ]
  },
  {
   "cell_type": "code",
   "execution_count": null,
   "id": "5a635969",
   "metadata": {},
   "outputs": [],
   "source": [
    "#В данном датасете нет данных для фильтрации"
   ]
  }
 ],
 "metadata": {
  "kernelspec": {
   "display_name": "Python 3 (ipykernel)",
   "language": "python",
   "name": "python3"
  },
  "language_info": {
   "codemirror_mode": {
    "name": "ipython",
    "version": 3
   },
   "file_extension": ".py",
   "mimetype": "text/x-python",
   "name": "python",
   "nbconvert_exporter": "python",
   "pygments_lexer": "ipython3",
   "version": "3.10.11"
  }
 },
 "nbformat": 4,
 "nbformat_minor": 5
}
