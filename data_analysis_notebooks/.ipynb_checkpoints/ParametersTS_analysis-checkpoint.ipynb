{
 "cells": [
  {
   "cell_type": "code",
   "execution_count": 1,
   "id": "35e642ee",
   "metadata": {},
   "outputs": [],
   "source": [
    "import pandas as pd"
   ]
  },
  {
   "cell_type": "code",
   "execution_count": 3,
   "id": "db2d1f90",
   "metadata": {},
   "outputs": [],
   "source": [
    "file_path = '../datasets/ParametersTS.xlsx' \n",
    "ParametersTS = pd.read_excel(file_path)"
   ]
  },
  {
   "cell_type": "code",
   "execution_count": 4,
   "id": "d3f381fb",
   "metadata": {},
   "outputs": [
    {
     "name": "stdout",
     "output_type": "stream",
     "text": [
      "Размер таблицы (строки, столбцы): (11, 4)\n"
     ]
    }
   ],
   "source": [
    "#Посмотрим на количество данных в Excel файле\n",
    "print(\"Размер таблицы (строки, столбцы):\", ParametersTS.shape)"
   ]
  },
  {
   "cell_type": "code",
   "execution_count": 5,
   "id": "378d8caf",
   "metadata": {},
   "outputs": [
    {
     "name": "stdout",
     "output_type": "stream",
     "text": [
      "Названия колонок: ['Ref', 'DeletionMark', 'Code', 'Description']\n"
     ]
    }
   ],
   "source": [
    "print(\"Названия колонок:\", ParametersTS.columns.tolist())"
   ]
  },
  {
   "cell_type": "code",
   "execution_count": 6,
   "id": "cbeb929f",
   "metadata": {},
   "outputs": [
    {
     "data": {
      "text/html": [
       "<div>\n",
       "<style scoped>\n",
       "    .dataframe tbody tr th:only-of-type {\n",
       "        vertical-align: middle;\n",
       "    }\n",
       "\n",
       "    .dataframe tbody tr th {\n",
       "        vertical-align: top;\n",
       "    }\n",
       "\n",
       "    .dataframe thead th {\n",
       "        text-align: right;\n",
       "    }\n",
       "</style>\n",
       "<table border=\"1\" class=\"dataframe\">\n",
       "  <thead>\n",
       "    <tr style=\"text-align: right;\">\n",
       "      <th></th>\n",
       "      <th>Ref</th>\n",
       "      <th>DeletionMark</th>\n",
       "      <th>Code</th>\n",
       "      <th>Description</th>\n",
       "    </tr>\n",
       "  </thead>\n",
       "  <tbody>\n",
       "    <tr>\n",
       "      <th>0</th>\n",
       "      <td>f10feccd-0fb0-11eb-80d8-00155d6f0a01</td>\n",
       "      <td>False</td>\n",
       "      <td>14</td>\n",
       "      <td>Цвет: Белый</td>\n",
       "    </tr>\n",
       "    <tr>\n",
       "      <th>1</th>\n",
       "      <td>0e3b65d3-0fb2-11eb-80d8-00155d6f0a01</td>\n",
       "      <td>False</td>\n",
       "      <td>19</td>\n",
       "      <td>Цвет: Черный</td>\n",
       "    </tr>\n",
       "    <tr>\n",
       "      <th>2</th>\n",
       "      <td>c6645115-0fb0-11eb-80d8-00155d6f0a01</td>\n",
       "      <td>False</td>\n",
       "      <td>12</td>\n",
       "      <td>Опц: USB у  мест</td>\n",
       "    </tr>\n",
       "    <tr>\n",
       "      <th>3</th>\n",
       "      <td>6897a9c6-0fb0-11eb-80d8-00155d6f0a01</td>\n",
       "      <td>False</td>\n",
       "      <td>6</td>\n",
       "      <td>Опц: Холодильник</td>\n",
       "    </tr>\n",
       "    <tr>\n",
       "      <th>4</th>\n",
       "      <td>cf498997-0fb0-11eb-80d8-00155d6f0a01</td>\n",
       "      <td>False</td>\n",
       "      <td>13</td>\n",
       "      <td>Опц: WiFi</td>\n",
       "    </tr>\n",
       "    <tr>\n",
       "      <th>5</th>\n",
       "      <td>8e8b3ecf-0fb0-11eb-80d8-00155d6f0a01</td>\n",
       "      <td>False</td>\n",
       "      <td>11</td>\n",
       "      <td>Опц: Спальное место</td>\n",
       "    </tr>\n",
       "    <tr>\n",
       "      <th>6</th>\n",
       "      <td>745c559a-0fb0-11eb-80d8-00155d6f0a01</td>\n",
       "      <td>False</td>\n",
       "      <td>8</td>\n",
       "      <td>Опц: Кулер</td>\n",
       "    </tr>\n",
       "    <tr>\n",
       "      <th>7</th>\n",
       "      <td>745c5599-0fb0-11eb-80d8-00155d6f0a01</td>\n",
       "      <td>False</td>\n",
       "      <td>7</td>\n",
       "      <td>Опц: Миникухня</td>\n",
       "    </tr>\n",
       "    <tr>\n",
       "      <th>8</th>\n",
       "      <td>6897a9c5-0fb0-11eb-80d8-00155d6f0a01</td>\n",
       "      <td>False</td>\n",
       "      <td>5</td>\n",
       "      <td>Опц: Туалет</td>\n",
       "    </tr>\n",
       "    <tr>\n",
       "      <th>9</th>\n",
       "      <td>8793cb2e-0fb0-11eb-80d8-00155d6f0a01</td>\n",
       "      <td>False</td>\n",
       "      <td>10</td>\n",
       "      <td>Осб: Низкопольный</td>\n",
       "    </tr>\n",
       "    <tr>\n",
       "      <th>10</th>\n",
       "      <td>810c56e7-0fb0-11eb-80d8-00155d6f0a01</td>\n",
       "      <td>False</td>\n",
       "      <td>9</td>\n",
       "      <td>Осб: Маленький багажник</td>\n",
       "    </tr>\n",
       "  </tbody>\n",
       "</table>\n",
       "</div>"
      ],
      "text/plain": [
       "                                     Ref  DeletionMark  Code  \\\n",
       "0   f10feccd-0fb0-11eb-80d8-00155d6f0a01         False    14   \n",
       "1   0e3b65d3-0fb2-11eb-80d8-00155d6f0a01         False    19   \n",
       "2   c6645115-0fb0-11eb-80d8-00155d6f0a01         False    12   \n",
       "3   6897a9c6-0fb0-11eb-80d8-00155d6f0a01         False     6   \n",
       "4   cf498997-0fb0-11eb-80d8-00155d6f0a01         False    13   \n",
       "5   8e8b3ecf-0fb0-11eb-80d8-00155d6f0a01         False    11   \n",
       "6   745c559a-0fb0-11eb-80d8-00155d6f0a01         False     8   \n",
       "7   745c5599-0fb0-11eb-80d8-00155d6f0a01         False     7   \n",
       "8   6897a9c5-0fb0-11eb-80d8-00155d6f0a01         False     5   \n",
       "9   8793cb2e-0fb0-11eb-80d8-00155d6f0a01         False    10   \n",
       "10  810c56e7-0fb0-11eb-80d8-00155d6f0a01         False     9   \n",
       "\n",
       "                Description  \n",
       "0               Цвет: Белый  \n",
       "1              Цвет: Черный  \n",
       "2          Опц: USB у  мест  \n",
       "3          Опц: Холодильник  \n",
       "4                 Опц: WiFi  \n",
       "5       Опц: Спальное место  \n",
       "6                Опц: Кулер  \n",
       "7            Опц: Миникухня  \n",
       "8               Опц: Туалет  \n",
       "9         Осб: Низкопольный  \n",
       "10  Осб: Маленький багажник  "
      ]
     },
     "execution_count": 6,
     "metadata": {},
     "output_type": "execute_result"
    }
   ],
   "source": [
    "#Посмотрим на значения данных в ParametersTS\n",
    "ParametersTS.head(20)"
   ]
  },
  {
   "cell_type": "code",
   "execution_count": null,
   "id": "023aaf87",
   "metadata": {},
   "outputs": [],
   "source": [
    "#В данном датасете нет данных для фильтрации"
   ]
  }
 ],
 "metadata": {
  "kernelspec": {
   "display_name": "Python 3 (ipykernel)",
   "language": "python",
   "name": "python3"
  },
  "language_info": {
   "codemirror_mode": {
    "name": "ipython",
    "version": 3
   },
   "file_extension": ".py",
   "mimetype": "text/x-python",
   "name": "python",
   "nbconvert_exporter": "python",
   "pygments_lexer": "ipython3",
   "version": "3.10.11"
  }
 },
 "nbformat": 4,
 "nbformat_minor": 5
}
