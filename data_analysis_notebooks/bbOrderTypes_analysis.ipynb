{
 "cells": [
  {
   "cell_type": "code",
   "execution_count": 1,
   "id": "2e0f591f",
   "metadata": {
    "pycharm": {
     "name": "#%%\n"
    }
   },
   "outputs": [],
   "source": [
    "import pandas as pd"
   ]
  },
  {
   "cell_type": "code",
   "execution_count": 3,
   "id": "e10fb0ad",
   "metadata": {
    "pycharm": {
     "name": "#%%\n"
    }
   },
   "outputs": [],
   "source": [
    "file_path = '../datasets/bbOrderTypes.xlsx' \n",
    "bbOrderTypes = pd.read_excel(file_path)"
   ]
  },
  {
   "cell_type": "code",
   "execution_count": 4,
   "id": "1a39fe19",
   "metadata": {
    "pycharm": {
     "name": "#%%\n"
    }
   },
   "outputs": [
    {
     "name": "stdout",
     "output_type": "stream",
     "text": [
      "Размер таблицы (строки, столбцы): (3, 5)\n"
     ]
    }
   ],
   "source": [
    "#Посмотрим на количество данных в Excel файле\n",
    "print(\"Размер таблицы (строки, столбцы):\", bbOrderTypes.shape)"
   ]
  },
  {
   "cell_type": "code",
   "execution_count": 5,
   "id": "1d672d00",
   "metadata": {
    "pycharm": {
     "name": "#%%\n"
    }
   },
   "outputs": [
    {
     "name": "stdout",
     "output_type": "stream",
     "text": [
      "Названия колонок: ['Ref', 'DeletionMark', 'Code', 'Description', 'Транспорт']\n"
     ]
    }
   ],
   "source": [
    "print(\"Названия колонок:\", bbOrderTypes.columns.tolist())"
   ]
  },
  {
   "cell_type": "code",
   "execution_count": 6,
   "id": "e98ec51d",
   "metadata": {
    "pycharm": {
     "name": "#%%\n"
    }
   },
   "outputs": [
    {
     "data": {
      "text/html": [
       "<div>\n",
       "<style scoped>\n",
       "    .dataframe tbody tr th:only-of-type {\n",
       "        vertical-align: middle;\n",
       "    }\n",
       "\n",
       "    .dataframe tbody tr th {\n",
       "        vertical-align: top;\n",
       "    }\n",
       "\n",
       "    .dataframe thead th {\n",
       "        text-align: right;\n",
       "    }\n",
       "</style>\n",
       "<table border=\"1\" class=\"dataframe\">\n",
       "  <thead>\n",
       "    <tr style=\"text-align: right;\">\n",
       "      <th></th>\n",
       "      <th>Ref</th>\n",
       "      <th>DeletionMark</th>\n",
       "      <th>Code</th>\n",
       "      <th>Description</th>\n",
       "      <th>Транспорт</th>\n",
       "    </tr>\n",
       "  </thead>\n",
       "  <tbody>\n",
       "    <tr>\n",
       "      <th>0</th>\n",
       "      <td>2d260fbe-17b2-4155-8a87-9b8729188030</td>\n",
       "      <td>False</td>\n",
       "      <td>1</td>\n",
       "      <td>Аренда</td>\n",
       "      <td>True</td>\n",
       "    </tr>\n",
       "    <tr>\n",
       "      <th>1</th>\n",
       "      <td>72fa4d0b-1be7-11e6-b507-002590f18851</td>\n",
       "      <td>True</td>\n",
       "      <td>549311</td>\n",
       "      <td>Перекат</td>\n",
       "      <td>False</td>\n",
       "    </tr>\n",
       "    <tr>\n",
       "      <th>2</th>\n",
       "      <td>33cdd2ab-77ea-4b6f-ae40-2e89c532f544</td>\n",
       "      <td>False</td>\n",
       "      <td>2</td>\n",
       "      <td>Трансфер</td>\n",
       "      <td>True</td>\n",
       "    </tr>\n",
       "  </tbody>\n",
       "</table>\n",
       "</div>"
      ],
      "text/plain": [
       "                                    Ref  DeletionMark    Code Description  \\\n",
       "0  2d260fbe-17b2-4155-8a87-9b8729188030         False       1      Аренда   \n",
       "1  72fa4d0b-1be7-11e6-b507-002590f18851          True  549311     Перекат   \n",
       "2  33cdd2ab-77ea-4b6f-ae40-2e89c532f544         False       2    Трансфер   \n",
       "\n",
       "   Транспорт  \n",
       "0       True  \n",
       "1      False  \n",
       "2       True  "
      ]
     },
     "execution_count": 6,
     "metadata": {},
     "output_type": "execute_result"
    }
   ],
   "source": [
    "#Посмотрим на значения данных в bbOrders\n",
    "bbOrderTypes.head()"
   ]
  },
  {
   "cell_type": "code",
   "execution_count": null,
   "id": "466dce16",
   "metadata": {
    "pycharm": {
     "name": "#%%\n"
    }
   },
   "outputs": [],
   "source": [
    "#В данном датасете нет данных для фильтрации"
   ]
  }
 ],
 "metadata": {
  "kernelspec": {
   "display_name": "Python 3 (ipykernel)",
   "language": "python",
   "name": "python3"
  },
  "language_info": {
   "codemirror_mode": {
    "name": "ipython",
    "version": 3
   },
   "file_extension": ".py",
   "mimetype": "text/x-python",
   "name": "python",
   "nbconvert_exporter": "python",
   "pygments_lexer": "ipython3",
   "version": "3.10.11"
  }
 },
 "nbformat": 4,
 "nbformat_minor": 5
}